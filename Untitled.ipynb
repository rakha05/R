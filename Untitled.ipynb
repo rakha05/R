{
 "cells": [
  {
   "cell_type": "markdown",
   "id": "c2807b98",
   "metadata": {},
   "source": [
    "<h1>Variabel dan tipe data </h1><hr>\n",
    "tipe data pada python adalah: \n",
    "<ol>\n",
    "    <li>flot - (flot)</li>\n",
    "    <li>string - (str)</li>\n",
    "    <li>boolean - (bool)</li>\n",
    "    <li>integer - (int)</li>\n",
    "</ol>\n",
    "<font color=\"red\"><i>aturan penambahan variabel:</i></font>\n",
    "<ul>\n",
    "    <li>tidak boleh menggunakan spasi</li>\n",
    "    <li>bersifat case sensitive=> A !=a</li>\n",
    "    <li>terdiri dari huruf, angka dan karakter _ (underscore)</li>\n",
    "    <li>diawali undersccore atau huruf</li>\n",
    "    <li>tidak boleh menggunakan reserved keyword</li>\n",
    "</ul>\n",
    "    \n"
   ]
  },
  {
   "cell_type": "code",
   "execution_count": 37,
   "id": "12382a35",
   "metadata": {},
   "outputs": [
    {
     "name": "stdout",
     "output_type": "stream",
     "text": [
      "100\n",
      "50.6\n",
      "1\n",
      "True\n"
     ]
    }
   ],
   "source": [
    "data_integer = 100\n",
    "data_float = 50.6\n",
    "data_string = \"1\"\n",
    "data_boolean = True \n",
    "\n",
    "data_string\n",
    "print(data_integer)\n",
    "print(data_float)\n",
    "print(data_string)\n",
    "print(data_boolean)\n"
   ]
  },
  {
   "cell_type": "code",
   "execution_count": 20,
   "id": "e3e26c05",
   "metadata": {},
   "outputs": [
    {
     "name": "stdout",
     "output_type": "stream",
     "text": [
      "<class 'int'>\n",
      "<class 'float'>\n",
      "<class 'str'>\n",
      "<class 'bool'>\n"
     ]
    }
   ],
   "source": [
    "print(type(data_integer))\n",
    "print(type(data_float))\n",
    "print(type(data_string))\n",
    "print(type(data_boolean))"
   ]
  },
  {
   "cell_type": "markdown",
   "id": "7712f82f",
   "metadata": {},
   "source": [
    "<h3>konversi Tipe Data dari Intergal ke (String,Float,Boolean)</h3> "
   ]
  },
  {
   "cell_type": "code",
   "execution_count": 27,
   "id": "c8b2ac2c",
   "metadata": {},
   "outputs": [
    {
     "name": "stdout",
     "output_type": "stream",
     "text": [
      "isikan bilangan 1:50\n",
      "isikan bilangan 2:40\n",
      "90\n"
     ]
    }
   ],
   "source": [
    "bil1 = input(\"isikan bilangan 1:\")\n",
    "bil2 = input(\"isikan bilangan 2:\")\n",
    "hasil = int(bil1) + int (bil2)\n",
    "print(hasil)"
   ]
  },
  {
   "cell_type": "code",
   "execution_count": 38,
   "id": "3686b89a",
   "metadata": {},
   "outputs": [
    {
     "name": "stdout",
     "output_type": "stream",
     "text": [
      "True\n",
      "True\n",
      "True\n",
      "<class 'bool'>\n",
      "<class 'bool'>\n",
      "<class 'bool'>\n"
     ]
    }
   ],
   "source": [
    "string_to_bool = bool(data_string)\n",
    "float_to_bool = bool(data_float)\n",
    "int_to_bool = bool(data_integer)\n",
    "\n",
    "print(string_to_bool)\n",
    "print(float_to_bool)\n",
    "print(int_to_bool)\n",
    " \n",
    "print(type(string_to_bool))\n",
    "print(type(float_to_bool))\n",
    "print(type(int_to_bool))"
   ]
  },
  {
   "cell_type": "code",
   "execution_count": 38,
   "id": "25427abd",
   "metadata": {},
   "outputs": [
    {
     "name": "stdout",
     "output_type": "stream",
     "text": [
      "True\n",
      "True\n",
      "True\n",
      "<class 'bool'>\n",
      "<class 'bool'>\n",
      "<class 'bool'>\n"
     ]
    }
   ],
   "source": [
    "string_to_bool = bool(data_string)\n",
    "float_to_bool = bool(data_float)\n",
    "int_to_bool = bool(data_integer)\n",
    "\n",
    "print(string_to_bool)\n",
    "print(float_to_bool)\n",
    "print(int_to_bool)\n",
    " \n",
    "print(type(string_to_bool))\n",
    "print(type(float_to_bool))\n",
    "print(type(int_to_bool))"
   ]
  },
  {
   "cell_type": "code",
   "execution_count": null,
   "id": "0e88c7f0",
   "metadata": {},
   "outputs": [],
   "source": []
  }
 ],
 "metadata": {
  "kernelspec": {
   "display_name": "Python 3 (ipykernel)",
   "language": "python",
   "name": "python3"
  },
  "language_info": {
   "codemirror_mode": {
    "name": "ipython",
    "version": 3
   },
   "file_extension": ".py",
   "mimetype": "text/x-python",
   "name": "python",
   "nbconvert_exporter": "python",
   "pygments_lexer": "ipython3",
   "version": "3.9.12"
  }
 },
 "nbformat": 4,
 "nbformat_minor": 5
}
